{
 "cells": [
  {
   "cell_type": "code",
   "execution_count": 19,
   "metadata": {
    "collapsed": false
   },
   "outputs": [],
   "source": [
    "import pandas as pd\n",
    "import networkx as nx\n",
    "from collections import Counter\n",
    "import matplotlib.pyplot as plt\n",
    "import numpy as np\n",
    "from scipy import stats\n",
    "\n",
    "try:\n",
    "    from mpl_toolkits import basemap\n",
    "    bm = basemap.Basemap()\n",
    "except:\n",
    "    bm = None"
   ]
  },
  {
   "cell_type": "code",
   "execution_count": 9,
   "metadata": {
    "collapsed": false
   },
   "outputs": [],
   "source": [
    "# Load the data in `citiesToCities.csv` into a table (you can write your own code or use the pandas library for\n",
    "# data processing in python; see http://pandas.pydata.org/pandas-docs/stable/generated/pandas.read_csv.html for details)"
   ]
  },
  {
   "cell_type": "code",
   "execution_count": 10,
   "metadata": {
    "collapsed": true
   },
   "outputs": [],
   "source": [
    "#Load the data and rename the columns\n",
    "c2c = pd.read_csv('citiesToCities.csv', names=[\n",
    "        'departure_city', 'departure_lng', 'departure_lat', 'departure_country',\n",
    "         'arrival_city', 'arrival_lng', 'arrival_lat', 'arrival_country',\n",
    "         'num_routes', 'distance'], skiprows=1)"
   ]
  },
  {
   "cell_type": "code",
   "execution_count": 11,
   "metadata": {
    "collapsed": false
   },
   "outputs": [],
   "source": [
    "# Construct a directed, weighted graph of flights between airports (the library networkx provides convenient methods, \n",
    "# e.g. see https://networkx.github.io/documentation/latest/tutorial/tutorial.html)"
   ]
  },
  {
   "cell_type": "code",
   "execution_count": 12,
   "metadata": {
    "collapsed": false
   },
   "outputs": [
    {
     "name": "stdout",
     "output_type": "stream",
     "text": [
      "Number of nodes: 2988\n",
      "Number of edges: 30594\n"
     ]
    }
   ],
   "source": [
    "#Create a container for city locations\n",
    "cities = {}\n",
    "\n",
    "#Create a graph\n",
    "graph = nx.DiGraph()\n",
    "\n",
    "#Iterate over all rows of the data file\n",
    "for departure_city, departure_lng, departure_lat, departure_country,\\\n",
    "    arrival_city, arrival_lng, arrival_lat, arrival_country,\\\n",
    "    num_routes, distance in c2c.values:\n",
    "        \n",
    "    #Add city locations to the dictionary\n",
    "    cities[departure_city] = departure_lng, departure_lat\n",
    "    cities[arrival_city] = arrival_lng, arrival_lat\n",
    "    \n",
    "    #Add the link\n",
    "    graph.add_edge(departure_city, arrival_city, weight=num_routes)\n",
    "    \n",
    "#How many nodes/edges are there?\n",
    "print \"Number of nodes: {}\".format(graph.number_of_nodes())\n",
    "print \"Number of edges: {}\".format(graph.number_of_edges())\n",
    "\n",
    "#Convert to undirected\n",
    "undirected_graph = graph.to_undirected()"
   ]
  },
  {
   "cell_type": "code",
   "execution_count": 13,
   "metadata": {
    "collapsed": false
   },
   "outputs": [],
   "source": [
    "# Visualise the network you have constructed. Is it consistent with your intuition?"
   ]
  },
  {
   "cell_type": "code",
   "execution_count": 14,
   "metadata": {
    "collapsed": false
   },
   "outputs": [
    {
     "data": {
      "text/plain": [
       "(-65, 85)"
      ]
     },
     "execution_count": 14,
     "metadata": {},
     "output_type": "execute_result"
    }
   ],
   "source": [
    "#Display the network\n",
    "if bm:\n",
    "    bm.drawcoastlines()\n",
    "nx.draw_networkx_nodes(graph, cities, node_size=1, color='r')\n",
    "nx.draw_networkx_edges(graph, cities, alpha=.02)\n",
    "plt.xlim(-185, 185)\n",
    "plt.ylim(-65, 85)"
   ]
  },
  {
   "cell_type": "code",
   "execution_count": null,
   "metadata": {
    "collapsed": false
   },
   "outputs": [],
   "source": [
    "# Use the graph to query the airports you can fly to from London"
   ]
  },
  {
   "cell_type": "code",
   "execution_count": 15,
   "metadata": {
    "collapsed": false
   },
   "outputs": [
    {
     "data": {
      "text/plain": [
       "{'Aarhus': {'weight': 1},\n",
       " 'Aberdeen': {'weight': 9},\n",
       " 'Abu Dhabi': {'weight': 5},\n",
       " 'Abuja': {'weight': 2},\n",
       " 'Accra': {'weight': 2},\n",
       " 'Addis Ababa': {'weight': 2},\n",
       " 'Agadir': {'weight': 3},\n",
       " 'Alesund': {'weight': 1},\n",
       " 'Alghero': {'weight': 1},\n",
       " 'Algier': {'weight': 2},\n",
       " 'Alicante': {'weight': 8},\n",
       " 'Alma-ata': {'weight': 2},\n",
       " 'Almeria': {'weight': 1},\n",
       " 'Amilcar Cabral': {'weight': 1},\n",
       " 'Amman': {'weight': 4},\n",
       " 'Amsterdam': {'weight': 10},\n",
       " 'Ancona': {'weight': 1},\n",
       " 'Antalya': {'weight': 1},\n",
       " 'Antigua': {'weight': 2},\n",
       " 'Antwerp': {'weight': 1},\n",
       " 'Ashkhabad': {'weight': 1},\n",
       " 'Athens': {'weight': 5},\n",
       " 'Atlanta': {'weight': 7},\n",
       " 'Aviles': {'weight': 1},\n",
       " 'Bahrain': {'weight': 5},\n",
       " 'Baku': {'weight': 2},\n",
       " 'Baltimore': {'weight': 3},\n",
       " 'Bangalore': {'weight': 1},\n",
       " 'Bangkok': {'weight': 5},\n",
       " 'Banjul': {'weight': 1},\n",
       " 'Barcelona': {'weight': 9},\n",
       " 'Bari': {'weight': 1},\n",
       " 'Basel-Mulhouse-Freiburg': {'weight': 6},\n",
       " 'Beijing': {'weight': 3},\n",
       " 'Beirut': {'weight': 3},\n",
       " 'Belfast': {'weight': 10},\n",
       " 'Beograd': {'weight': 2},\n",
       " 'Bergamo': {'weight': 1},\n",
       " 'Bergen': {'weight': 4},\n",
       " 'Berlin': {'weight': 7},\n",
       " 'Bermuda': {'weight': 1},\n",
       " 'Beziers': {'weight': 1},\n",
       " 'Biarritz-bayonne': {'weight': 1},\n",
       " 'Bilbao': {'weight': 3},\n",
       " 'Billund': {'weight': 2},\n",
       " 'Boa Vista': {'weight': 1},\n",
       " 'Bologna': {'weight': 3},\n",
       " 'Bombay': {'weight': 6},\n",
       " 'Bordeaux': {'weight': 3},\n",
       " 'Boston': {'weight': 8},\n",
       " 'Bourgas': {'weight': 1},\n",
       " 'Bratislava': {'weight': 2},\n",
       " 'Bremen': {'weight': 1},\n",
       " 'Bridgetown': {'weight': 3},\n",
       " 'Brindisi': {'weight': 1},\n",
       " 'Brive': {'weight': 1},\n",
       " 'Brussels': {'weight': 3},\n",
       " 'Bucharest': {'weight': 4},\n",
       " 'Budapest': {'weight': 6},\n",
       " 'Buenos Aires': {'weight': 1},\n",
       " 'Bydgoszcz': {'weight': 1},\n",
       " 'Cagliari': {'weight': 1},\n",
       " 'Cairo': {'weight': 3},\n",
       " 'Calgary': {'weight': 9},\n",
       " 'Cancun': {'weight': 4},\n",
       " 'Cape Town': {'weight': 4},\n",
       " 'Carcassonne': {'weight': 1},\n",
       " 'Casablanca': {'weight': 2},\n",
       " 'Catania': {'weight': 2},\n",
       " 'Chambery': {'weight': 3},\n",
       " 'Charlotte': {'weight': 2},\n",
       " 'Chicago': {'weight': 10},\n",
       " 'Cluj-napoca': {'weight': 1},\n",
       " 'Cologne': {'weight': 4},\n",
       " 'Colombo': {'weight': 1},\n",
       " 'Connaught': {'weight': 3},\n",
       " 'Copenhagen': {'weight': 8},\n",
       " 'Cork': {'weight': 4},\n",
       " 'Dallas-fort Worth': {'weight': 3},\n",
       " 'Damascus': {'weight': 3},\n",
       " 'Dar Es Salaam': {'weight': 1},\n",
       " 'Deauville': {'weight': 1},\n",
       " 'Delhi': {'weight': 6},\n",
       " 'Denver': {'weight': 3},\n",
       " 'Detroit': {'weight': 2},\n",
       " 'Dinard': {'weight': 1},\n",
       " 'Doha': {'weight': 2},\n",
       " 'Dortmund': {'weight': 1},\n",
       " 'Dresden': {'weight': 2},\n",
       " 'Dubai': {'weight': 7},\n",
       " 'Dublin': {'weight': 9},\n",
       " 'Dubrovnik': {'weight': 1},\n",
       " 'Duesseldorf': {'weight': 6},\n",
       " 'Dundee': {'weight': 1},\n",
       " 'Edinburgh': {'weight': 10},\n",
       " 'Edmonton': {'weight': 4},\n",
       " 'Eindhoven': {'weight': 3},\n",
       " 'Enfidha': {'weight': 2},\n",
       " 'Entebbe': {'weight': 1},\n",
       " 'Faro': {'weight': 7},\n",
       " 'Firenze': {'weight': 4},\n",
       " 'Frankfurt': {'weight': 11},\n",
       " 'Freetown': {'weight': 1},\n",
       " 'Fuerteventura': {'weight': 5},\n",
       " 'Funchal': {'weight': 3},\n",
       " 'Gdansk': {'weight': 2},\n",
       " 'Geneva': {'weight': 11},\n",
       " 'Genoa': {'weight': 2},\n",
       " 'Gibraltar': {'weight': 3},\n",
       " 'Glasgow': {'weight': 7},\n",
       " 'Goa': {'weight': 2},\n",
       " 'Gothenborg': {'weight': 5},\n",
       " 'Gran Canaria': {'weight': 7},\n",
       " 'Graz': {'weight': 1},\n",
       " 'Grenoble': {'weight': 5},\n",
       " 'Guernsey': {'weight': 3},\n",
       " 'Hahn': {'weight': 1},\n",
       " 'Halifax': {'weight': 4},\n",
       " 'Hamburg': {'weight': 6},\n",
       " 'Hannover': {'weight': 3},\n",
       " 'Hanoi': {'weight': 1},\n",
       " 'Harare': {'weight': 1},\n",
       " 'Haugesund': {'weight': 1},\n",
       " 'Havana': {'weight': 1},\n",
       " 'Helsinki': {'weight': 3},\n",
       " 'Hewandorra': {'weight': 2},\n",
       " 'Ho Chi Minh City': {'weight': 1},\n",
       " 'Holguin': {'weight': 2},\n",
       " 'Hong Kong': {'weight': 5},\n",
       " 'Houston': {'weight': 7},\n",
       " 'Hurghada': {'weight': 3},\n",
       " 'Hyderabad': {'weight': 1},\n",
       " 'Innsbruck': {'weight': 3},\n",
       " 'Inverness': {'weight': 4},\n",
       " 'Islamabad': {'weight': 1},\n",
       " 'Isle Of Man': {'weight': 4},\n",
       " 'Istanbul': {'weight': 5},\n",
       " 'Izmir': {'weight': 1},\n",
       " 'Jeddah': {'weight': 2},\n",
       " 'Jersey': {'weight': 2},\n",
       " 'Johannesburg': {'weight': 4},\n",
       " 'Karachi': {'weight': 1},\n",
       " 'Karlsruhe/Baden-Baden': {'weight': 1},\n",
       " 'Katowice': {'weight': 2},\n",
       " 'Kaunas': {'weight': 3},\n",
       " 'Keflavik': {'weight': 2},\n",
       " 'Kerry': {'weight': 2},\n",
       " 'Kiev': {'weight': 5},\n",
       " 'Kingston': {'weight': 2},\n",
       " 'Klagenfurt': {'weight': 1},\n",
       " 'Krakow': {'weight': 2},\n",
       " 'Kuala Lumpur': {'weight': 3},\n",
       " 'Kuwait': {'weight': 2},\n",
       " 'La Coruna': {'weight': 2},\n",
       " 'La Rochelle': {'weight': 1},\n",
       " 'Lagos': {'weight': 3},\n",
       " 'Lahore': {'weight': 1},\n",
       " 'Lamezia': {'weight': 1},\n",
       " 'Larnaca': {'weight': 8},\n",
       " 'Las Palmas': {'weight': 8},\n",
       " 'Las Vegas': {'weight': 5},\n",
       " 'Leipzig': {'weight': 1},\n",
       " 'Limoges': {'weight': 1},\n",
       " 'Linz': {'weight': 1},\n",
       " 'Lisbon': {'weight': 7},\n",
       " 'Ljubliana': {'weight': 1},\n",
       " 'Lodz': {'weight': 2},\n",
       " 'Londonderry': {'weight': 1},\n",
       " 'Los Angeles': {'weight': 10},\n",
       " 'Luanda': {'weight': 2},\n",
       " 'Lusaka': {'weight': 1},\n",
       " 'Luxemburg': {'weight': 3},\n",
       " 'Luxor': {'weight': 4},\n",
       " 'Lyon': {'weight': 3},\n",
       " 'Madras': {'weight': 1},\n",
       " 'Madrid': {'weight': 10},\n",
       " 'Malaga': {'weight': 9},\n",
       " 'Male': {'weight': 2},\n",
       " 'Malmoe': {'weight': 1},\n",
       " 'Malta': {'weight': 7},\n",
       " 'Manchester': {'weight': 8},\n",
       " 'Marrakech': {'weight': 4},\n",
       " 'Marsa Alam': {'weight': 1},\n",
       " 'Marseille': {'weight': 3},\n",
       " 'Memmingen': {'weight': 1},\n",
       " 'Menorca': {'weight': 1},\n",
       " 'Mexico City': {'weight': 1},\n",
       " 'Miami': {'weight': 7},\n",
       " 'Milan': {'weight': 5},\n",
       " 'Milano': {'weight': 3},\n",
       " 'Minneapolis': {'weight': 2},\n",
       " 'Minsk 2': {'weight': 1},\n",
       " 'Mombasa': {'weight': 1},\n",
       " 'Montego Bay': {'weight': 2},\n",
       " 'Montpellier': {'weight': 1},\n",
       " 'Montreal': {'weight': 7},\n",
       " 'Moscow': {'weight': 5},\n",
       " 'Munich': {'weight': 9},\n",
       " 'Murcia': {'weight': 2},\n",
       " 'Muscat': {'weight': 2},\n",
       " 'Nairobi': {'weight': 3},\n",
       " 'Nantes': {'weight': 2},\n",
       " 'Naples': {'weight': 3},\n",
       " 'Nassau': {'weight': 1},\n",
       " 'New York': {'weight': 10},\n",
       " 'Newark': {'weight': 9},\n",
       " 'Newcastle': {'weight': 2},\n",
       " 'Newquai': {'weight': 1},\n",
       " 'Nice': {'weight': 7},\n",
       " 'Nimes': {'weight': 1},\n",
       " 'Nuernberg': {'weight': 2},\n",
       " 'Orlando': {'weight': 6},\n",
       " 'Oslo': {'weight': 4},\n",
       " 'Ottawa': {'weight': 5},\n",
       " 'Palermo': {'weight': 2},\n",
       " 'Palma de Mallorca': {'weight': 4},\n",
       " 'Paphos': {'weight': 3},\n",
       " 'Paris': {'weight': 7},\n",
       " 'Parma': {'weight': 1},\n",
       " 'Pau': {'weight': 1},\n",
       " 'Perugia': {'weight': 1},\n",
       " 'Pescara': {'weight': 1},\n",
       " 'Philadelphia': {'weight': 4},\n",
       " 'Phoenix': {'weight': 3},\n",
       " 'Pisa': {'weight': 3},\n",
       " 'Plaisance': {'weight': 2},\n",
       " 'Plovdiv': {'weight': 1},\n",
       " 'Poitiers': {'weight': 1},\n",
       " 'Porto': {'weight': 3},\n",
       " 'Poznan': {'weight': 2},\n",
       " 'Prague': {'weight': 4},\n",
       " 'Pristina': {'weight': 1},\n",
       " 'Punta Cana': {'weight': 1},\n",
       " 'Raleigh-durham': {'weight': 3},\n",
       " 'Riga': {'weight': 3},\n",
       " 'Rimini': {'weight': 1},\n",
       " 'Rio De Janeiro': {'weight': 3},\n",
       " 'Riyadh': {'weight': 4},\n",
       " 'Rodez': {'weight': 1},\n",
       " 'Rome': {'weight': 5},\n",
       " 'Ronchi De Legionari': {'weight': 1},\n",
       " 'Rotterdam': {'weight': 2},\n",
       " 'Rygge': {'weight': 2},\n",
       " 'Rzeszow': {'weight': 2},\n",
       " 'Salzburg': {'weight': 6},\n",
       " 'San Diego': {'weight': 3},\n",
       " 'San Francisco': {'weight': 9},\n",
       " 'Sandefjord': {'weight': 1},\n",
       " 'Santa Cruz De La Palma': {'weight': 1},\n",
       " 'Santander': {'weight': 1},\n",
       " 'Santiago': {'weight': 1},\n",
       " 'Sao Paulo': {'weight': 3},\n",
       " 'Scarborough': {'weight': 1},\n",
       " 'Seattle': {'weight': 3},\n",
       " 'Seoul': {'weight': 2},\n",
       " 'Sevilla': {'weight': 3},\n",
       " 'Shanghai': {'weight': 4},\n",
       " 'Shannon': {'weight': 6},\n",
       " 'Sharm El Sheikh': {'weight': 8},\n",
       " 'Singapore': {'weight': 5},\n",
       " 'Sion': {'weight': 1},\n",
       " 'Skopje': {'weight': 1},\n",
       " 'Sofia': {'weight': 5},\n",
       " 'St. Petersburg': {'weight': 3},\n",
       " 'Stavanger': {'weight': 4},\n",
       " 'Stockholm': {'weight': 10},\n",
       " 'Stuttgart': {'weight': 5},\n",
       " 'Szczechin': {'weight': 1},\n",
       " 'Taba': {'weight': 1},\n",
       " 'Taipei': {'weight': 1},\n",
       " 'Tallinn-ulemiste International': {'weight': 3},\n",
       " 'Tampa': {'weight': 3},\n",
       " 'Tampere': {'weight': 1},\n",
       " 'Tanger': {'weight': 1},\n",
       " 'Tarbes': {'weight': 1},\n",
       " 'Tashkent': {'weight': 1},\n",
       " 'Tehran': {'weight': 1},\n",
       " 'Tel-aviv': {'weight': 4},\n",
       " 'Tenerife': {'weight': 10},\n",
       " 'Thessaloniki': {'weight': 3},\n",
       " 'Timisoara': {'weight': 1},\n",
       " 'Tirana': {'weight': 2},\n",
       " 'Tirgu Mures': {'weight': 1},\n",
       " 'Tokyo': {'weight': 5},\n",
       " 'Torino': {'weight': 3},\n",
       " 'Toronto': {'weight': 8},\n",
       " 'Toulouse': {'weight': 2},\n",
       " 'Tours': {'weight': 1},\n",
       " 'Treviso': {'weight': 1},\n",
       " 'Trondheim': {'weight': 1},\n",
       " 'Tunis': {'weight': 2},\n",
       " 'Turany': {'weight': 2},\n",
       " 'Valencia': {'weight': 2},\n",
       " 'Valladolid': {'weight': 1},\n",
       " 'Vancouver': {'weight': 8},\n",
       " 'Vasteras': {'weight': 1},\n",
       " 'Venice': {'weight': 3},\n",
       " 'Vienna': {'weight': 5},\n",
       " 'Villafranca': {'weight': 3},\n",
       " 'Vilnius': {'weight': 2},\n",
       " 'Warsaw': {'weight': 5},\n",
       " 'Washington': {'weight': 8},\n",
       " 'Waterford': {'weight': 1},\n",
       " 'Weeze': {'weight': 1},\n",
       " 'Winnipeg': {'weight': 1},\n",
       " 'Wroclaw': {'weight': 2},\n",
       " 'Yerevan': {'weight': 3},\n",
       " 'Zagreb': {'weight': 5},\n",
       " 'Zaragoza': {'weight': 1},\n",
       " 'Zurich': {'weight': 10}}"
      ]
     },
     "execution_count": 15,
     "metadata": {},
     "output_type": "execute_result"
    }
   ],
   "source": [
    "graph['London']"
   ]
  },
  {
   "cell_type": "code",
   "execution_count": null,
   "metadata": {
    "collapsed": false
   },
   "outputs": [],
   "source": [
    "# Which airport has the smallest/largest number of destination airports?"
   ]
  },
  {
   "cell_type": "code",
   "execution_count": 17,
   "metadata": {
    "collapsed": false
   },
   "outputs": [
    {
     "name": "stdout",
     "output_type": "stream",
     "text": [
      "Smallest number of destinations: Chipata\n",
      "Largest number of destinations: London\n"
     ]
    }
   ],
   "source": [
    "degree = graph.out_degree()\n",
    "x = min(degree, key=degree.get)\n",
    "print \"Smallest number of destinations: {}\".format(x)\n",
    "x = max(degree, key=degree.get)\n",
    "print \"Largest number of destinations: {}\".format(x)"
   ]
  },
  {
   "cell_type": "code",
   "execution_count": 18,
   "metadata": {
    "collapsed": false
   },
   "outputs": [
    {
     "name": "stdout",
     "output_type": "stream",
     "text": [
      "Smallest number of routes: Chipata\n",
      "Largest number of routes: London\n"
     ]
    }
   ],
   "source": [
    "# Which airport has the smallest/largest number of routes\n",
    "strength = graph.out_degree(weight='weight')\n",
    "x = min(strength, key=degree.get)\n",
    "print \"Smallest number of routes: {}\".format(x)\n",
    "x = max(strength, key=degree.get)\n",
    "print \"Largest number of routes: {}\".format(x)"
   ]
  },
  {
   "cell_type": "code",
   "execution_count": null,
   "metadata": {
    "collapsed": false
   },
   "outputs": [],
   "source": [
    "# Are the in-degree (number of incoming flights from distinct airports) and the out-degree (number of outgoing \n",
    "# flights from distinct airports) correlated?"
   ]
  },
  {
   "cell_type": "code",
   "execution_count": 24,
   "metadata": {
    "collapsed": false
   },
   "outputs": [
    {
     "name": "stdout",
     "output_type": "stream",
     "text": [
      "Pearson's R: 0.999683353189; p-value: 0.0\n"
     ]
    }
   ],
   "source": [
    "in_degree = graph.in_degree().values()\n",
    "out_degree = graph.out_degree().values()\n",
    "\n",
    "plt.scatter(in_degree, out_degree)\n",
    "print \"Pearson's R: {}; p-value: {}\".format(\n",
    "    *stats.pearsonr(in_degree, out_degree))"
   ]
  },
  {
   "cell_type": "code",
   "execution_count": null,
   "metadata": {
    "collapsed": false
   },
   "outputs": [],
   "source": [
    "# Develop a function that takes the location of a walker as input and returns the location of the walker at the next\n",
    "# time step by randomly choosing a neighbour of the input location"
   ]
  },
  {
   "cell_type": "code",
   "execution_count": 38,
   "metadata": {
    "collapsed": false
   },
   "outputs": [
    {
     "data": {
      "text/plain": [
       "'Riga'"
      ]
     },
     "execution_count": 38,
     "metadata": {},
     "output_type": "execute_result"
    }
   ],
   "source": [
    "def make_step(graph, airport):\n",
    "    # Stay at the airport if there are no outgoing connections\n",
    "    if len(graph[airport]) == 0:\n",
    "        return airport\n",
    "    #Get the neighbours and weights\n",
    "    neighbours, weights = zip(*[(neighbour, data['weight']) for neighbour, data \n",
    "                                        in graph[airport].iteritems()])\n",
    "    #Normalise the weights\n",
    "    weights = np.array(weights, np.float) / np.sum(weights)\n",
    "    #Grab a neighbour\n",
    "    return np.random.choice(neighbours, p=weights)\n",
    "\n",
    "make_step(graph, 'London')"
   ]
  },
  {
   "cell_type": "code",
   "execution_count": null,
   "metadata": {
    "collapsed": true
   },
   "outputs": [],
   "source": [
    "# Develop a function that can take multiple steps at a time"
   ]
  },
  {
   "cell_type": "code",
   "execution_count": 31,
   "metadata": {
    "collapsed": false
   },
   "outputs": [
    {
     "data": {
      "text/plain": [
       "['London', 'Wroclaw', 'Bergamo', 'Palermo', 'London']"
      ]
     },
     "execution_count": 31,
     "metadata": {},
     "output_type": "execute_result"
    }
   ],
   "source": [
    "def make_steps(graph, airport, num_steps):\n",
    "    path = [airport]\n",
    "    #Make steps until we have a path that is long enough\n",
    "    while len(path) <= num_steps:\n",
    "        airport = make_step(graph, airport)\n",
    "        path.append(airport)\n",
    "    return path\n",
    "\n",
    "make_steps(graph, 'London', 4)"
   ]
  },
  {
   "cell_type": "code",
   "execution_count": null,
   "metadata": {
    "collapsed": false
   },
   "outputs": [],
   "source": [
    "# Simulate a trajectory starting in London and visualise it"
   ]
  },
  {
   "cell_type": "code",
   "execution_count": 33,
   "metadata": {
    "collapsed": false
   },
   "outputs": [
    {
     "name": "stdout",
     "output_type": "stream",
     "text": [
      "['London', 'Hamburg', 'London', 'Porto', 'Newark']\n"
     ]
    },
    {
     "data": {
      "text/plain": [
       "(-65, 85)"
      ]
     },
     "execution_count": 33,
     "metadata": {},
     "output_type": "execute_result"
    }
   ],
   "source": [
    "# Generate a trajectory\n",
    "path = make_steps(graph, 'London', 4)\n",
    "print path\n",
    "#Convert the path to a list of edges\n",
    "edges = zip(path, path[1:])\n",
    "#Draw the airports and edges\n",
    "if bm:\n",
    "    bm.drawcoastlines()\n",
    "nx.draw_networkx_edges(undirected_graph, cities, edgelist=edges)\n",
    "nx.draw_networkx_nodes(undirected_graph, cities, node_size=1, color='r')\n",
    "plt.xlim(-185, 185)\n",
    "plt.ylim(-65, 85)"
   ]
  },
  {
   "cell_type": "code",
   "execution_count": null,
   "metadata": {
    "collapsed": false
   },
   "outputs": [],
   "source": [
    "# Run a simulation of 10,000 walkers starting in London and visualise the number of walkers at each airport after\n",
    "# two time steps and 200 time steps"
   ]
  },
  {
   "cell_type": "code",
   "execution_count": 34,
   "metadata": {
    "collapsed": true
   },
   "outputs": [],
   "source": [
    "#Which airports is a passenger likely to be at after `k` steps\n",
    "k = 2\n",
    "num_runs=10000\n",
    "airports = Counter([make_steps(graph, 'London', k)[-1] for _ in range(num_runs)])"
   ]
  },
  {
   "cell_type": "code",
   "execution_count": 35,
   "metadata": {
    "collapsed": false
   },
   "outputs": [
    {
     "data": {
      "text/plain": [
       "<matplotlib.collections.PathCollection at 0x11475aa10>"
      ]
     },
     "execution_count": 35,
     "metadata": {},
     "output_type": "execute_result"
    }
   ],
   "source": [
    "if bm:\n",
    "    bm.drawcoastlines()\n",
    "nodes, frequency = zip(*airports.items())\n",
    "nx.draw_networkx_nodes(graph, cities, nodelist=nodes, node_size=np.asarray(frequency)+10, alpha=.5)"
   ]
  },
  {
   "cell_type": "code",
   "execution_count": 39,
   "metadata": {
    "collapsed": false
   },
   "outputs": [],
   "source": [
    "#Which airports is a passenger likely to be at after `k` steps\n",
    "k = 200\n",
    "num_runs=10000\n",
    "airports = Counter([make_steps(graph, 'London', k)[-1] for _ in range(num_runs)])"
   ]
  },
  {
   "cell_type": "code",
   "execution_count": 40,
   "metadata": {
    "collapsed": false
   },
   "outputs": [
    {
     "data": {
      "text/plain": [
       "<matplotlib.collections.PathCollection at 0x11475a810>"
      ]
     },
     "execution_count": 40,
     "metadata": {},
     "output_type": "execute_result"
    }
   ],
   "source": [
    "if bm:\n",
    "    bm.drawcoastlines()\n",
    "nodes, frequency = zip(*airports.items())\n",
    "nx.draw_networkx_nodes(graph, cities, nodelist=nodes, node_size=np.asarray(frequency)+10, alpha=.5)"
   ]
  }
 ],
 "metadata": {
  "kernelspec": {
   "display_name": "Python 2",
   "language": "python",
   "name": "python2"
  },
  "language_info": {
   "codemirror_mode": {
    "name": "ipython",
    "version": 2
   },
   "file_extension": ".py",
   "mimetype": "text/x-python",
   "name": "python",
   "nbconvert_exporter": "python",
   "pygments_lexer": "ipython2",
   "version": "2.7.11"
  }
 },
 "nbformat": 4,
 "nbformat_minor": 0
}
