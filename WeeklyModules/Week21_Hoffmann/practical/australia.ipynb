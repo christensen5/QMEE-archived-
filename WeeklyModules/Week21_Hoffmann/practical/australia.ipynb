{
 "metadata": {
  "name": "",
  "signature": "sha256:2dfafccb1875e2cfe424308ec1c8ea6d462d29ce69e600b00c160dac13d1ad9b"
 },
 "nbformat": 3,
 "nbformat_minor": 0,
 "worksheets": [
  {
   "cells": [
    {
     "cell_type": "code",
     "collapsed": false,
     "input": [
      "#Define the airport locations\n",
      "pos = \\\n",
      "{'ABX': (146.94999999999999, -36.066666999999995),\n",
      " 'ADL': (138.53055600000002, -34.945),\n",
      " 'ASP': (133.88333299999999, -23.800000000000001),\n",
      " 'AYQ': (131.033333, -25.333333),\n",
      " 'BDB': (152.318611, -24.903889000000003),\n",
      " 'BME': (122.23166699999999, -17.944721999999999),\n",
      " 'BNE': (153.11666700000001, -27.383333),\n",
      " 'CBR': (149.19499999999999, -35.306944000000001),\n",
      " 'CFS': (153.116389, -30.320556),\n",
      " 'CNS': (145.75, -16.883333),\n",
      " 'DBO': (148.57472200000001, -32.217222),\n",
      " 'DRW': (130.86666700000001, -12.416667),\n",
      " 'EMD': (148.13333299999999, -23.633333),\n",
      " 'GET': (114.7, -28.783333000000002),\n",
      " 'GLT': (151.25, -23.800000000000001),\n",
      " 'HBA': (147.510278, -42.836110999999995),\n",
      " 'HTI': (148.95166699999999, -20.358056000000001),\n",
      " 'ISA': (139.466667, -20.666667),\n",
      " 'KGI': (121.46166699999999, -30.789444),\n",
      " 'KTA': (116.766667, -20.716667000000001),\n",
      " 'LST': (147.21277800000001, -41.546666999999999),\n",
      " 'MCY': (153.09111100000001, -26.603333000000003),\n",
      " 'MEL': (144.843333, -37.673333),\n",
      " 'MKY': (149.183333, -21.166667),\n",
      " 'MOV': (149.533333, -22.116667),\n",
      " 'MQL': (142.08333300000001, -34.233333000000002),\n",
      " 'NTL': (151.83444399999999, -32.795000000000002),\n",
      " 'OOL': (153.5, -28.181110999999998),\n",
      " 'PER': (115.966944, -31.940278000000003),\n",
      " 'PHE': (118.45, -20.383333),\n",
      " 'PLO': (135.88333299999999, -34.600000000000001),\n",
      " 'PPP': (148.55000000000001, -20.483332999999998),\n",
      " 'PQQ': (152.91666699999999, -31.633333),\n",
      " 'ROK': (150.475278, -23.381944000000001),\n",
      " 'SYD': (151.177222, -33.946111000000002),\n",
      " 'TSV': (146.765278, -19.252500000000001),\n",
      " 'WGA': (147.466667, -35.166666999999997),\n",
      " 'ZNE': (119.933333, -23.416667)}\n",
      "\n",
      "#Define the connections\n",
      "edges = \\\n",
      "[('EMD', 'BNE', 23619.416666666668),\n",
      " ('ZNE', 'PER', 37430.333333333336),\n",
      " ('HBA', 'MEL', 115736.58333333333),\n",
      " ('HBA', 'BNE', 15032.0),\n",
      " ('HBA', 'SYD', 43096.25),\n",
      " ('PER', 'GET', 10864.666666666666),\n",
      " ('PER', 'MEL', 184143.75),\n",
      " ('PER', 'BME', 26590.75),\n",
      " ('PER', 'DRW', 14217.666666666666),\n",
      " ('PER', 'PHE', 37844.666666666664),\n",
      " ('PER', 'KGI', 18092.583333333332),\n",
      " ('PER', 'ADL', 52024.666666666664),\n",
      " ('PER', 'SYD', 150034.08333333334),\n",
      " ('PER', 'KTA', 60172.75),\n",
      " ('PER', 'BNE', 84808.083333333328),\n",
      " ('TSV', 'CNS', 13617.333333333334),\n",
      " ('TSV', 'BNE', 79791.166666666672),\n",
      " ('TSV', 'SYD', 15242.833333333334),\n",
      " ('ISA', 'BNE', 14106.833333333334),\n",
      " ('GLT', 'BNE', 38758.583333333336),\n",
      " ('MKY', 'BNE', 71960.083333333328),\n",
      " ('ASP', 'MEL', 12294.875),\n",
      " ('ASP', 'SYD', 13051.142857142857),\n",
      " ('MQL', 'MEL', 16579.583333333332),\n",
      " ('LST', 'MEL', 72732.416666666672),\n",
      " ('LST', 'SYD', 22718.333333333332),\n",
      " ('PPP', 'BNE', 19533.5),\n",
      " ('WGA', 'SYD', 15200.75),\n",
      " ('CNS', 'MEL', 56470.75),\n",
      " ('CNS', 'BNE', 99965.083333333328),\n",
      " ('CNS', 'SYD', 81546.416666666672),\n",
      " ('BDB', 'BNE', 13703.0),\n",
      " ('ROK', 'BNE', 53010.5),\n",
      " ('DRW', 'MEL', 23065.25),\n",
      " ('DRW', 'BNE', 31322.583333333332),\n",
      " ('DRW', 'SYD', 29747.333333333332),\n",
      " ('ABX', 'SYD', 19550.75),\n",
      " ('ADL', 'SYD', 145995.16666666666),\n",
      " ('ADL', 'MEL', 182926.58333333334),\n",
      " ('ADL', 'CBR', 15182.0),\n",
      " ('ADL', 'OOL', 17089.416666666668),\n",
      " ('ADL', 'PLO', 15802.833333333334),\n",
      " ('ADL', 'BNE', 62290.75),\n",
      " ('AYQ', 'SYD', 10988.083333333334),\n",
      " ('BNE', 'MEL', 266569.91666666669),\n",
      " ('BNE', 'SYD', 368756.41666666669),\n",
      " ('BNE', 'MOV', 15743.125),\n",
      " ('BNE', 'CBR', 48582.333333333336),\n",
      " ('BNE', 'HTI', 12873.166666666666),\n",
      " ('BNE', 'NTL', 48640.333333333336),\n",
      " ('DBO', 'SYD', 15201.833333333334),\n",
      " ('SYD', 'MEL', 687001.08333333337),\n",
      " ('SYD', 'CBR', 85635.583333333328),\n",
      " ('SYD', 'PQQ', 15955.166666666666),\n",
      " ('SYD', 'HTI', 16743.583333333332),\n",
      " ('SYD', 'MCY', 38720.666666666664),\n",
      " ('SYD', 'OOL', 213260.41666666666),\n",
      " ('SYD', 'CFS', 30666.166666666668),\n",
      " ('MEL', 'OOL', 139612.75),\n",
      " ('MEL', 'CBR', 82874.666666666672),\n",
      " ('MEL', 'HTI', 10564.4),\n",
      " ('MEL', 'MCY', 32683.5),\n",
      " ('MEL', 'NTL', 36458.333333333336)]"
     ],
     "language": "python",
     "metadata": {},
     "outputs": [],
     "prompt_number": 1
    },
    {
     "cell_type": "heading",
     "level": 1,
     "metadata": {},
     "source": [
      "Task 1"
     ]
    },
    {
     "cell_type": "markdown",
     "metadata": {},
     "source": [
      "Construct a weighted network from the above data using `networkx` (see http://networkx.github.io/documentation/networkx-1.9.1/tutorial/tutorial.html for a tutorial) and visualise it. Have a look at `basemap` (http://matplotlib.org/basemap/) if you want to draw the outlines of the continent."
     ]
    },
    {
     "cell_type": "heading",
     "level": 1,
     "metadata": {},
     "source": [
      "Task 2"
     ]
    },
    {
     "cell_type": "markdown",
     "metadata": {},
     "source": [
      "Plot the degree distribution of the air traffic network and fit an ER model. What is the maximum likelihood estimator for the connectivity parameter $p$? Can you derive an expression for the posterior if we take a Bayesian approach? Do you think an ER model would be able to capture the degree distribution? "
     ]
    },
    {
     "cell_type": "heading",
     "level": 1,
     "metadata": {},
     "source": [
      "Task 3"
     ]
    },
    {
     "cell_type": "markdown",
     "metadata": {},
     "source": [
      "List the three most (least) important airports by degree and strength."
     ]
    },
    {
     "cell_type": "heading",
     "level": 1,
     "metadata": {},
     "source": [
      "Task 4"
     ]
    },
    {
     "cell_type": "markdown",
     "metadata": {},
     "source": [
      "Visualise the betweenness centrality of the airports."
     ]
    },
    {
     "cell_type": "heading",
     "level": 1,
     "metadata": {},
     "source": [
      "Task 5"
     ]
    },
    {
     "cell_type": "markdown",
     "metadata": {},
     "source": [
      "This task is a little more involved: We will write functions to simulate a discrete-time random walk (DTRW) on a generic network.\n",
      "\n",
      "Define a function `make_step` that takes two parameters: (1) a `graph` and (2) an `airport`. The function should return one of the neighbours of `airport` with probability proportional to the weight of the edge between `airport` and said neighbour. See http://docs.scipy.org/doc/numpy-dev/reference/generated/numpy.random.choice.html.\n",
      "\n",
      "Define a function `make_step` that takes three parameters: (1) a `graph`, (2) an `airport`, and (3) `num_steps`. The function should return a sequence of length `num_steps` corresponding to the airports visisted by a random walker starting at `airport`. Make sure you reuse `make_step`."
     ]
    },
    {
     "cell_type": "heading",
     "level": 1,
     "metadata": {},
     "source": [
      "Task 6"
     ]
    },
    {
     "cell_type": "markdown",
     "metadata": {},
     "source": [
      "Construct the transition matrix $T_{ij}=\\frac{A_{ij}}{k_j}$ and find its eigenvalues and eigenvectors. Find the steady-state solution of the DTRW on the air traffic network and visualise it. What is the characteristic timescale of the most slowly-decaying transient? How long should you run the simulation for to equilibrate the system?"
     ]
    },
    {
     "cell_type": "heading",
     "level": 1,
     "metadata": {},
     "source": [
      "Task 7"
     ]
    },
    {
     "cell_type": "markdown",
     "metadata": {},
     "source": [
      "Run an ensemble of random walkers for as many steps as you determined in Task 5 and construct a numerical estimate of the steady-state probability mass funciton over airports. Compare your numerical estimate with the steady-state solution you derived analytically."
     ]
    }
   ],
   "metadata": {}
  }
 ]
}